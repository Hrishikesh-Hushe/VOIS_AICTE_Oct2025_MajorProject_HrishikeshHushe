{
 "cells": [
  {
   "cell_type": "markdown",
   "id": "80fff09b",
   "metadata": {},
   "source": [
    "# Netflix Data Analysis Project\n",
    "This notebook analyzes the Netflix dataset to uncover content trends and provide strategic insights."
   ]
  },
  {
   "cell_type": "code",
   "execution_count": null,
   "id": "4b193963",
   "metadata": {},
   "outputs": [],
   "source": [
    "\n",
    "import pandas as pd\n",
    "import matplotlib.pyplot as plt\n",
    "import seaborn as sns\n",
    "\n",
    "# Make plots a bit prettier\n",
    "plt.style.use('default')\n"
   ]
  },
  {
   "cell_type": "code",
   "execution_count": null,
   "id": "7c138be4",
   "metadata": {},
   "outputs": [],
   "source": [
    "\n",
    "# Load dataset\n",
    "df = pd.read_csv(\"Netflix Dataset.csv\")\n",
    "\n",
    "# Display first few rows\n",
    "df.head()\n"
   ]
  },
  {
   "cell_type": "code",
   "execution_count": null,
   "id": "b0b82c03",
   "metadata": {},
   "outputs": [],
   "source": [
    "\n",
    "# Inspect dataset info and columns\n",
    "df.info()\n",
    "df.columns\n"
   ]
  },
  {
   "cell_type": "code",
   "execution_count": null,
   "id": "14a7c320",
   "metadata": {},
   "outputs": [],
   "source": [
    "\n",
    "# Rename columns for easier reference\n",
    "df.rename(columns={'Category':'type', 'Title':'title', 'Country':'country',\n",
    "                   'Release_Date':'release_date', 'Type':'listed_in'}, inplace=True)\n",
    "\n",
    "# Extract release_year from release_date\n",
    "import re\n",
    "def extract_year(x):\n",
    "    try:\n",
    "        s = str(x)\n",
    "        m = re.search(r\"(19|20)\\d{2}\", s)\n",
    "        if m:\n",
    "            return int(m.group(0))\n",
    "    except:\n",
    "        return None\n",
    "    return None\n",
    "\n",
    "df['release_year'] = df['release_date'].apply(extract_year)\n",
    "df['release_year'] = df['release_year'].fillna(0).astype(int)\n",
    "\n",
    "# Fill missing values\n",
    "df['country'] = df['country'].fillna(\"Unknown\")\n",
    "df['listed_in'] = df['listed_in'].fillna(\"Unknown\")\n",
    "df['type'] = df['type'].fillna(\"Unknown\")\n",
    "\n",
    "df.head()\n"
   ]
  },
  {
   "cell_type": "markdown",
   "id": "3251250f",
   "metadata": {},
   "source": [
    "## Movies vs TV Shows"
   ]
  },
  {
   "cell_type": "code",
   "execution_count": null,
   "id": "d172accd",
   "metadata": {},
   "outputs": [],
   "source": [
    "\n",
    "type_counts = df['type'].value_counts()\n",
    "print(type_counts)\n",
    "\n",
    "# Pie chart\n",
    "type_counts.plot.pie(autopct='%1.1f%%', figsize=(6,6), ylabel='', title=\"Movies vs TV Shows\")\n",
    "plt.show()\n"
   ]
  },
  {
   "cell_type": "markdown",
   "id": "158986fe",
   "metadata": {},
   "source": [
    "## Content Added per Year by Type"
   ]
  },
  {
   "cell_type": "code",
   "execution_count": null,
   "id": "e4c16346",
   "metadata": {},
   "outputs": [],
   "source": [
    "\n",
    "by_year_type = df.groupby(['release_year','type']).size().unstack(fill_value=0).sort_index()\n",
    "by_year_type.plot(kind='line', figsize=(10,5), marker='o', title=\"Content Added per Year by Type\")\n",
    "plt.xlabel(\"Year\"); plt.ylabel(\"Count\")\n",
    "plt.show()\n"
   ]
  },
  {
   "cell_type": "markdown",
   "id": "8eaa59df",
   "metadata": {},
   "source": [
    "## Top Genres"
   ]
  },
  {
   "cell_type": "code",
   "execution_count": null,
   "id": "3400766a",
   "metadata": {},
   "outputs": [],
   "source": [
    "\n",
    "genres_series = df['listed_in'].str.split(',').explode().str.strip().dropna()\n",
    "top_genres = genres_series.value_counts().head(10)\n",
    "print(top_genres)\n",
    "\n",
    "sns.barplot(x=top_genres.values, y=top_genres.index)\n",
    "plt.title(\"Top 10 Genres\")\n",
    "plt.xlabel(\"Count\")\n",
    "plt.ylabel(\"Genre\")\n",
    "plt.show()\n"
   ]
  },
  {
   "cell_type": "markdown",
   "id": "08b31339",
   "metadata": {},
   "source": [
    "## Top Countries"
   ]
  },
  {
   "cell_type": "code",
   "execution_count": null,
   "id": "17ff2875",
   "metadata": {},
   "outputs": [],
   "source": [
    "\n",
    "countries_series = df['country'].str.split(',').explode().str.strip().dropna()\n",
    "top_countries = countries_series.value_counts().head(10)\n",
    "print(top_countries)\n",
    "\n",
    "sns.barplot(x=top_countries.values, y=top_countries.index)\n",
    "plt.title(\"Top 10 Countries by Content Count\")\n",
    "plt.xlabel(\"Count\")\n",
    "plt.ylabel(\"Country\")\n",
    "plt.show()\n"
   ]
  },
  {
   "cell_type": "markdown",
   "id": "97030ded",
   "metadata": {},
   "source": [
    "## Total Contents Added per Year"
   ]
  },
  {
   "cell_type": "code",
   "execution_count": null,
   "id": "da745c41",
   "metadata": {},
   "outputs": [],
   "source": [
    "\n",
    "yearly_counts = df['release_year'].value_counts().sort_index()\n",
    "plt.figure(figsize=(10,4))\n",
    "plt.plot(yearly_counts.index, yearly_counts.values, marker='o')\n",
    "plt.title(\"Total Contents Added per Year\")\n",
    "plt.xlabel(\"Year\")\n",
    "plt.ylabel(\"Total Content Added\")\n",
    "plt.show()\n"
   ]
  },
  {
   "cell_type": "markdown",
   "id": "ecf8c621",
   "metadata": {},
   "source": [
    "## Key Findings"
   ]
  },
  {
   "cell_type": "code",
   "execution_count": null,
   "id": "ee654786",
   "metadata": {},
   "outputs": [],
   "source": [
    "\n",
    "print(\"Total records:\", len(df))\n",
    "print(\"Unique titles:\", df['title'].nunique())\n",
    "print(\"Years covered:\", df['release_year'].min(), \"-\", df['release_year'].max())\n",
    "print(\"Most common type:\", type_counts.idxmax())\n",
    "print(\"Top genre:\", top_genres.index[0])\n",
    "print(\"Top country:\", top_countries.index[0])\n"
   ]
  },
  {
   "cell_type": "markdown",
   "id": "35e4a4b1",
   "metadata": {},
   "source": [
    "\n",
    "## Strategic Recommendations\n",
    "- Invest more in popular genres and local-language originals for high-contribution countries.  \n",
    "- Fill gaps by commissioning content in underrepresented genres and regions.  \n",
    "- Use yearly trend analysis to align release schedules and marketing.  \n"
   ]
  }
 ],
 "metadata": {},
 "nbformat": 4,
 "nbformat_minor": 5
}
